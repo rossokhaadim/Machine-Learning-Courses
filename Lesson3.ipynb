{
  "nbformat": 4,
  "nbformat_minor": 0,
  "metadata": {
    "colab": {
      "provenance": []
    },
    "kernelspec": {
      "name": "python3",
      "display_name": "Python 3"
    },
    "language_info": {
      "name": "python"
    }
  },
  "cells": [
    {
      "cell_type": "code",
      "execution_count": null,
      "metadata": {
        "id": "sTDaGLY3GsI2"
      },
      "outputs": [],
      "source": [
        "import pandas as pd"
      ]
    },
    {
      "cell_type": "code",
      "source": [
        "data = pd.read_csv('adult.data.csv')\n",
        "data.head()"
      ],
      "metadata": {
        "colab": {
          "base_uri": "https://localhost:8080/",
          "height": 399
        },
        "id": "GxsCOBPkGvvG",
        "outputId": "9aeca1f4-2934-4585-e9e0-a63cc4285c0a"
      },
      "execution_count": null,
      "outputs": [
        {
          "output_type": "execute_result",
          "data": {
            "text/plain": [
              "   age         workclass  fnlwgt  education  education-num  \\\n",
              "0   39         State-gov   77516  Bachelors             13   \n",
              "1   50  Self-emp-not-inc   83311  Bachelors             13   \n",
              "2   38           Private  215646    HS-grad              9   \n",
              "3   53           Private  234721       11th              7   \n",
              "4   28           Private  338409  Bachelors             13   \n",
              "\n",
              "       marital-status         occupation   relationship   race     sex  \\\n",
              "0       Never-married       Adm-clerical  Not-in-family  White    Male   \n",
              "1  Married-civ-spouse    Exec-managerial        Husband  White    Male   \n",
              "2            Divorced  Handlers-cleaners  Not-in-family  White    Male   \n",
              "3  Married-civ-spouse  Handlers-cleaners        Husband  Black    Male   \n",
              "4  Married-civ-spouse     Prof-specialty           Wife  Black  Female   \n",
              "\n",
              "   capital-gain  capital-loss  hours-per-week native-country salary  \n",
              "0          2174             0              40  United-States  <=50K  \n",
              "1             0             0              13  United-States  <=50K  \n",
              "2             0             0              40  United-States  <=50K  \n",
              "3             0             0              40  United-States  <=50K  \n",
              "4             0             0              40           Cuba  <=50K  "
            ],
            "text/html": [
              "\n",
              "  <div id=\"df-db00007f-7406-4a48-9930-10c1fc205b80\" class=\"colab-df-container\">\n",
              "    <div>\n",
              "<style scoped>\n",
              "    .dataframe tbody tr th:only-of-type {\n",
              "        vertical-align: middle;\n",
              "    }\n",
              "\n",
              "    .dataframe tbody tr th {\n",
              "        vertical-align: top;\n",
              "    }\n",
              "\n",
              "    .dataframe thead th {\n",
              "        text-align: right;\n",
              "    }\n",
              "</style>\n",
              "<table border=\"1\" class=\"dataframe\">\n",
              "  <thead>\n",
              "    <tr style=\"text-align: right;\">\n",
              "      <th></th>\n",
              "      <th>age</th>\n",
              "      <th>workclass</th>\n",
              "      <th>fnlwgt</th>\n",
              "      <th>education</th>\n",
              "      <th>education-num</th>\n",
              "      <th>marital-status</th>\n",
              "      <th>occupation</th>\n",
              "      <th>relationship</th>\n",
              "      <th>race</th>\n",
              "      <th>sex</th>\n",
              "      <th>capital-gain</th>\n",
              "      <th>capital-loss</th>\n",
              "      <th>hours-per-week</th>\n",
              "      <th>native-country</th>\n",
              "      <th>salary</th>\n",
              "    </tr>\n",
              "  </thead>\n",
              "  <tbody>\n",
              "    <tr>\n",
              "      <th>0</th>\n",
              "      <td>39</td>\n",
              "      <td>State-gov</td>\n",
              "      <td>77516</td>\n",
              "      <td>Bachelors</td>\n",
              "      <td>13</td>\n",
              "      <td>Never-married</td>\n",
              "      <td>Adm-clerical</td>\n",
              "      <td>Not-in-family</td>\n",
              "      <td>White</td>\n",
              "      <td>Male</td>\n",
              "      <td>2174</td>\n",
              "      <td>0</td>\n",
              "      <td>40</td>\n",
              "      <td>United-States</td>\n",
              "      <td>&lt;=50K</td>\n",
              "    </tr>\n",
              "    <tr>\n",
              "      <th>1</th>\n",
              "      <td>50</td>\n",
              "      <td>Self-emp-not-inc</td>\n",
              "      <td>83311</td>\n",
              "      <td>Bachelors</td>\n",
              "      <td>13</td>\n",
              "      <td>Married-civ-spouse</td>\n",
              "      <td>Exec-managerial</td>\n",
              "      <td>Husband</td>\n",
              "      <td>White</td>\n",
              "      <td>Male</td>\n",
              "      <td>0</td>\n",
              "      <td>0</td>\n",
              "      <td>13</td>\n",
              "      <td>United-States</td>\n",
              "      <td>&lt;=50K</td>\n",
              "    </tr>\n",
              "    <tr>\n",
              "      <th>2</th>\n",
              "      <td>38</td>\n",
              "      <td>Private</td>\n",
              "      <td>215646</td>\n",
              "      <td>HS-grad</td>\n",
              "      <td>9</td>\n",
              "      <td>Divorced</td>\n",
              "      <td>Handlers-cleaners</td>\n",
              "      <td>Not-in-family</td>\n",
              "      <td>White</td>\n",
              "      <td>Male</td>\n",
              "      <td>0</td>\n",
              "      <td>0</td>\n",
              "      <td>40</td>\n",
              "      <td>United-States</td>\n",
              "      <td>&lt;=50K</td>\n",
              "    </tr>\n",
              "    <tr>\n",
              "      <th>3</th>\n",
              "      <td>53</td>\n",
              "      <td>Private</td>\n",
              "      <td>234721</td>\n",
              "      <td>11th</td>\n",
              "      <td>7</td>\n",
              "      <td>Married-civ-spouse</td>\n",
              "      <td>Handlers-cleaners</td>\n",
              "      <td>Husband</td>\n",
              "      <td>Black</td>\n",
              "      <td>Male</td>\n",
              "      <td>0</td>\n",
              "      <td>0</td>\n",
              "      <td>40</td>\n",
              "      <td>United-States</td>\n",
              "      <td>&lt;=50K</td>\n",
              "    </tr>\n",
              "    <tr>\n",
              "      <th>4</th>\n",
              "      <td>28</td>\n",
              "      <td>Private</td>\n",
              "      <td>338409</td>\n",
              "      <td>Bachelors</td>\n",
              "      <td>13</td>\n",
              "      <td>Married-civ-spouse</td>\n",
              "      <td>Prof-specialty</td>\n",
              "      <td>Wife</td>\n",
              "      <td>Black</td>\n",
              "      <td>Female</td>\n",
              "      <td>0</td>\n",
              "      <td>0</td>\n",
              "      <td>40</td>\n",
              "      <td>Cuba</td>\n",
              "      <td>&lt;=50K</td>\n",
              "    </tr>\n",
              "  </tbody>\n",
              "</table>\n",
              "</div>\n",
              "    <div class=\"colab-df-buttons\">\n",
              "\n",
              "  <div class=\"colab-df-container\">\n",
              "    <button class=\"colab-df-convert\" onclick=\"convertToInteractive('df-db00007f-7406-4a48-9930-10c1fc205b80')\"\n",
              "            title=\"Convert this dataframe to an interactive table.\"\n",
              "            style=\"display:none;\">\n",
              "\n",
              "  <svg xmlns=\"http://www.w3.org/2000/svg\" height=\"24px\" viewBox=\"0 -960 960 960\">\n",
              "    <path d=\"M120-120v-720h720v720H120Zm60-500h600v-160H180v160Zm220 220h160v-160H400v160Zm0 220h160v-160H400v160ZM180-400h160v-160H180v160Zm440 0h160v-160H620v160ZM180-180h160v-160H180v160Zm440 0h160v-160H620v160Z\"/>\n",
              "  </svg>\n",
              "    </button>\n",
              "\n",
              "  <style>\n",
              "    .colab-df-container {\n",
              "      display:flex;\n",
              "      gap: 12px;\n",
              "    }\n",
              "\n",
              "    .colab-df-convert {\n",
              "      background-color: #E8F0FE;\n",
              "      border: none;\n",
              "      border-radius: 50%;\n",
              "      cursor: pointer;\n",
              "      display: none;\n",
              "      fill: #1967D2;\n",
              "      height: 32px;\n",
              "      padding: 0 0 0 0;\n",
              "      width: 32px;\n",
              "    }\n",
              "\n",
              "    .colab-df-convert:hover {\n",
              "      background-color: #E2EBFA;\n",
              "      box-shadow: 0px 1px 2px rgba(60, 64, 67, 0.3), 0px 1px 3px 1px rgba(60, 64, 67, 0.15);\n",
              "      fill: #174EA6;\n",
              "    }\n",
              "\n",
              "    .colab-df-buttons div {\n",
              "      margin-bottom: 4px;\n",
              "    }\n",
              "\n",
              "    [theme=dark] .colab-df-convert {\n",
              "      background-color: #3B4455;\n",
              "      fill: #D2E3FC;\n",
              "    }\n",
              "\n",
              "    [theme=dark] .colab-df-convert:hover {\n",
              "      background-color: #434B5C;\n",
              "      box-shadow: 0px 1px 3px 1px rgba(0, 0, 0, 0.15);\n",
              "      filter: drop-shadow(0px 1px 2px rgba(0, 0, 0, 0.3));\n",
              "      fill: #FFFFFF;\n",
              "    }\n",
              "  </style>\n",
              "\n",
              "    <script>\n",
              "      const buttonEl =\n",
              "        document.querySelector('#df-db00007f-7406-4a48-9930-10c1fc205b80 button.colab-df-convert');\n",
              "      buttonEl.style.display =\n",
              "        google.colab.kernel.accessAllowed ? 'block' : 'none';\n",
              "\n",
              "      async function convertToInteractive(key) {\n",
              "        const element = document.querySelector('#df-db00007f-7406-4a48-9930-10c1fc205b80');\n",
              "        const dataTable =\n",
              "          await google.colab.kernel.invokeFunction('convertToInteractive',\n",
              "                                                    [key], {});\n",
              "        if (!dataTable) return;\n",
              "\n",
              "        const docLinkHtml = 'Like what you see? Visit the ' +\n",
              "          '<a target=\"_blank\" href=https://colab.research.google.com/notebooks/data_table.ipynb>data table notebook</a>'\n",
              "          + ' to learn more about interactive tables.';\n",
              "        element.innerHTML = '';\n",
              "        dataTable['output_type'] = 'display_data';\n",
              "        await google.colab.output.renderOutput(dataTable, element);\n",
              "        const docLink = document.createElement('div');\n",
              "        docLink.innerHTML = docLinkHtml;\n",
              "        element.appendChild(docLink);\n",
              "      }\n",
              "    </script>\n",
              "  </div>\n",
              "\n",
              "\n",
              "<div id=\"df-f29e9e87-7719-4b8d-b00c-805ed38518b8\">\n",
              "  <button class=\"colab-df-quickchart\" onclick=\"quickchart('df-f29e9e87-7719-4b8d-b00c-805ed38518b8')\"\n",
              "            title=\"Suggest charts\"\n",
              "            style=\"display:none;\">\n",
              "\n",
              "<svg xmlns=\"http://www.w3.org/2000/svg\" height=\"24px\"viewBox=\"0 0 24 24\"\n",
              "     width=\"24px\">\n",
              "    <g>\n",
              "        <path d=\"M19 3H5c-1.1 0-2 .9-2 2v14c0 1.1.9 2 2 2h14c1.1 0 2-.9 2-2V5c0-1.1-.9-2-2-2zM9 17H7v-7h2v7zm4 0h-2V7h2v10zm4 0h-2v-4h2v4z\"/>\n",
              "    </g>\n",
              "</svg>\n",
              "  </button>\n",
              "\n",
              "<style>\n",
              "  .colab-df-quickchart {\n",
              "      --bg-color: #E8F0FE;\n",
              "      --fill-color: #1967D2;\n",
              "      --hover-bg-color: #E2EBFA;\n",
              "      --hover-fill-color: #174EA6;\n",
              "      --disabled-fill-color: #AAA;\n",
              "      --disabled-bg-color: #DDD;\n",
              "  }\n",
              "\n",
              "  [theme=dark] .colab-df-quickchart {\n",
              "      --bg-color: #3B4455;\n",
              "      --fill-color: #D2E3FC;\n",
              "      --hover-bg-color: #434B5C;\n",
              "      --hover-fill-color: #FFFFFF;\n",
              "      --disabled-bg-color: #3B4455;\n",
              "      --disabled-fill-color: #666;\n",
              "  }\n",
              "\n",
              "  .colab-df-quickchart {\n",
              "    background-color: var(--bg-color);\n",
              "    border: none;\n",
              "    border-radius: 50%;\n",
              "    cursor: pointer;\n",
              "    display: none;\n",
              "    fill: var(--fill-color);\n",
              "    height: 32px;\n",
              "    padding: 0;\n",
              "    width: 32px;\n",
              "  }\n",
              "\n",
              "  .colab-df-quickchart:hover {\n",
              "    background-color: var(--hover-bg-color);\n",
              "    box-shadow: 0 1px 2px rgba(60, 64, 67, 0.3), 0 1px 3px 1px rgba(60, 64, 67, 0.15);\n",
              "    fill: var(--button-hover-fill-color);\n",
              "  }\n",
              "\n",
              "  .colab-df-quickchart-complete:disabled,\n",
              "  .colab-df-quickchart-complete:disabled:hover {\n",
              "    background-color: var(--disabled-bg-color);\n",
              "    fill: var(--disabled-fill-color);\n",
              "    box-shadow: none;\n",
              "  }\n",
              "\n",
              "  .colab-df-spinner {\n",
              "    border: 2px solid var(--fill-color);\n",
              "    border-color: transparent;\n",
              "    border-bottom-color: var(--fill-color);\n",
              "    animation:\n",
              "      spin 1s steps(1) infinite;\n",
              "  }\n",
              "\n",
              "  @keyframes spin {\n",
              "    0% {\n",
              "      border-color: transparent;\n",
              "      border-bottom-color: var(--fill-color);\n",
              "      border-left-color: var(--fill-color);\n",
              "    }\n",
              "    20% {\n",
              "      border-color: transparent;\n",
              "      border-left-color: var(--fill-color);\n",
              "      border-top-color: var(--fill-color);\n",
              "    }\n",
              "    30% {\n",
              "      border-color: transparent;\n",
              "      border-left-color: var(--fill-color);\n",
              "      border-top-color: var(--fill-color);\n",
              "      border-right-color: var(--fill-color);\n",
              "    }\n",
              "    40% {\n",
              "      border-color: transparent;\n",
              "      border-right-color: var(--fill-color);\n",
              "      border-top-color: var(--fill-color);\n",
              "    }\n",
              "    60% {\n",
              "      border-color: transparent;\n",
              "      border-right-color: var(--fill-color);\n",
              "    }\n",
              "    80% {\n",
              "      border-color: transparent;\n",
              "      border-right-color: var(--fill-color);\n",
              "      border-bottom-color: var(--fill-color);\n",
              "    }\n",
              "    90% {\n",
              "      border-color: transparent;\n",
              "      border-bottom-color: var(--fill-color);\n",
              "    }\n",
              "  }\n",
              "</style>\n",
              "\n",
              "  <script>\n",
              "    async function quickchart(key) {\n",
              "      const quickchartButtonEl =\n",
              "        document.querySelector('#' + key + ' button');\n",
              "      quickchartButtonEl.disabled = true;  // To prevent multiple clicks.\n",
              "      quickchartButtonEl.classList.add('colab-df-spinner');\n",
              "      try {\n",
              "        const charts = await google.colab.kernel.invokeFunction(\n",
              "            'suggestCharts', [key], {});\n",
              "      } catch (error) {\n",
              "        console.error('Error during call to suggestCharts:', error);\n",
              "      }\n",
              "      quickchartButtonEl.classList.remove('colab-df-spinner');\n",
              "      quickchartButtonEl.classList.add('colab-df-quickchart-complete');\n",
              "    }\n",
              "    (() => {\n",
              "      let quickchartButtonEl =\n",
              "        document.querySelector('#df-f29e9e87-7719-4b8d-b00c-805ed38518b8 button');\n",
              "      quickchartButtonEl.style.display =\n",
              "        google.colab.kernel.accessAllowed ? 'block' : 'none';\n",
              "    })();\n",
              "  </script>\n",
              "</div>\n",
              "    </div>\n",
              "  </div>\n"
            ]
          },
          "metadata": {},
          "execution_count": 5
        }
      ]
    },
    {
      "cell_type": "markdown",
      "source": [],
      "metadata": {
        "id": "JK6GaA9GHCn2"
      }
    },
    {
      "cell_type": "markdown",
      "source": [
        "**1. How many men and women (attribute *sex*) are represented in this data set?**"
      ],
      "metadata": {
        "id": "_CWcXj0hH6NA"
      }
    },
    {
      "cell_type": "code",
      "source": [
        "data['sex'].value_counts()[\"Male\"]"
      ],
      "metadata": {
        "colab": {
          "base_uri": "https://localhost:8080/"
        },
        "id": "ooiqXVoQHDls",
        "outputId": "5fd32652-65cd-48af-b8a2-6904849dda80"
      },
      "execution_count": null,
      "outputs": [
        {
          "output_type": "execute_result",
          "data": {
            "text/plain": [
              "21790"
            ]
          },
          "metadata": {},
          "execution_count": 6
        }
      ]
    },
    {
      "cell_type": "code",
      "source": [
        "data['sex'].value_counts()[\"Female\"]"
      ],
      "metadata": {
        "id": "6XUvNsgFJEEZ",
        "outputId": "9c75a420-766d-4888-e40e-1cbed88da81a",
        "colab": {
          "base_uri": "https://localhost:8080/"
        }
      },
      "execution_count": null,
      "outputs": [
        {
          "output_type": "execute_result",
          "data": {
            "text/plain": [
              "10771"
            ]
          },
          "metadata": {},
          "execution_count": 7
        }
      ]
    },
    {
      "cell_type": "markdown",
      "source": [
        "**2. What is the average age (*age*) of women?**\n"
      ],
      "metadata": {
        "id": "O89qwuzNJGhi"
      }
    },
    {
      "cell_type": "code",
      "source": [
        "data[data['sex']==\"Female\"].mean(numeric_only=True)['age']"
      ],
      "metadata": {
        "id": "u1gR0c8OJKTO",
        "colab": {
          "base_uri": "https://localhost:8080/"
        },
        "outputId": "adc6c997-460f-4f25-f298-a4090194954b"
      },
      "execution_count": null,
      "outputs": [
        {
          "output_type": "execute_result",
          "data": {
            "text/plain": [
              "36.85823043357163"
            ]
          },
          "metadata": {},
          "execution_count": 8
        }
      ]
    },
    {
      "cell_type": "markdown",
      "source": [
        "**3. What is the proportion of German citizens (attribute *native-country*)?**\n"
      ],
      "metadata": {
        "id": "N3oewS79VaN_"
      }
    },
    {
      "cell_type": "code",
      "source": [],
      "metadata": {
        "id": "dz0z2QYbdLBJ"
      },
      "execution_count": null,
      "outputs": []
    },
    {
      "cell_type": "code",
      "source": [
        "print(f'{data[\"native-country\"].value_counts()[\"Germany\"]/len(data.axes[0])*100}%')"
      ],
      "metadata": {
        "colab": {
          "base_uri": "https://localhost:8080/"
        },
        "id": "8PyYr-51Ww9h",
        "outputId": "4f12defa-2851-42cb-f764-c97439beb820"
      },
      "execution_count": null,
      "outputs": [
        {
          "output_type": "stream",
          "name": "stdout",
          "text": [
            "0.42074874850281013%\n"
          ]
        }
      ]
    },
    {
      "cell_type": "markdown",
      "source": [
        "**4-5. What are the averages and standard deviations of the ages of those earning more than 50K per year (salary) and those earning less than 50K per year? **"
      ],
      "metadata": {
        "id": "kRoOLxL_VdHm"
      }
    },
    {
      "cell_type": "code",
      "source": [
        "data[data[\"salary\"]==\">50K\"].mean(numeric_only=True)[\"age\"]"
      ],
      "metadata": {
        "colab": {
          "base_uri": "https://localhost:8080/"
        },
        "id": "ubcUnrNUxx-i",
        "outputId": "440d75d4-3678-435a-a090-82c1f83ca5a5"
      },
      "execution_count": null,
      "outputs": [
        {
          "output_type": "execute_result",
          "data": {
            "text/plain": [
              "44.24984058155847"
            ]
          },
          "metadata": {},
          "execution_count": 12
        }
      ]
    },
    {
      "cell_type": "code",
      "source": [
        "data[data[\"salary\"]==\">50K\"].std(numeric_only=True)[\"age\"]"
      ],
      "metadata": {
        "colab": {
          "base_uri": "https://localhost:8080/"
        },
        "id": "zVmoDPtNxzya",
        "outputId": "e039c3e0-37da-4ba5-82f9-87e8824e06df"
      },
      "execution_count": null,
      "outputs": [
        {
          "output_type": "execute_result",
          "data": {
            "text/plain": [
              "10.519027719851826"
            ]
          },
          "metadata": {},
          "execution_count": 13
        }
      ]
    },
    {
      "cell_type": "code",
      "source": [
        "data[data[\"salary\"]==\"<=50K\"].mean(numeric_only=True)[\"age\"]"
      ],
      "metadata": {
        "colab": {
          "base_uri": "https://localhost:8080/"
        },
        "id": "vY243YUGx0CP",
        "outputId": "8ca17701-136f-453b-869a-227cd8cd32f1"
      },
      "execution_count": null,
      "outputs": [
        {
          "output_type": "execute_result",
          "data": {
            "text/plain": [
              "36.78373786407767"
            ]
          },
          "metadata": {},
          "execution_count": 14
        }
      ]
    },
    {
      "cell_type": "code",
      "source": [
        "data[data[\"salary\"]==\"<=50K\"].std(numeric_only=True)[\"age\"]"
      ],
      "metadata": {
        "colab": {
          "base_uri": "https://localhost:8080/"
        },
        "id": "9oxEYtaWyzrN",
        "outputId": "1a844e54-9870-4bf6-cf76-e7c50a7a8b7f"
      },
      "execution_count": null,
      "outputs": [
        {
          "output_type": "execute_result",
          "data": {
            "text/plain": [
              "14.02008849082488"
            ]
          },
          "metadata": {},
          "execution_count": 15
        }
      ]
    },
    {
      "cell_type": "markdown",
      "source": [
        "6. Is it true that people who earn more than 50k have at least a college degree? (attribute education – Bachelors, Prof-school, Assoc-acdm, Assoc-voc, Masters or Doctorate)"
      ],
      "metadata": {
        "id": "49Me-ZONVfSy"
      }
    },
    {
      "cell_type": "code",
      "source": [
        "data[\"education\"].unique()"
      ],
      "metadata": {
        "colab": {
          "base_uri": "https://localhost:8080/"
        },
        "id": "sDWTMFew0Fx3",
        "outputId": "82298188-e70f-4889-fbb9-b30702774d6a"
      },
      "execution_count": null,
      "outputs": [
        {
          "output_type": "execute_result",
          "data": {
            "text/plain": [
              "array(['Bachelors', 'HS-grad', '11th', 'Masters', '9th', 'Some-college',\n",
              "       'Assoc-acdm', 'Assoc-voc', '7th-8th', 'Doctorate', 'Prof-school',\n",
              "       '5th-6th', '10th', '1st-4th', 'Preschool', '12th'], dtype=object)"
            ]
          },
          "metadata": {},
          "execution_count": 11
        }
      ]
    },
    {
      "cell_type": "code",
      "source": [
        "data.loc[(data[\"salary\"]==\">50K\") & ((data[\"education\"]!=\"Bachelors\") & (data[\"education\"]!=\"Prof-school\") & (data[\"education\"]!=\"Assoc-acdm\") & (data[\"education\"]!=\"Assoc-voc\") & (data[\"education\"]!=\"Masters\") & (data[\"education\"]!=\"Doctorate\"))].shape[0]==0\n"
      ],
      "metadata": {
        "colab": {
          "base_uri": "https://localhost:8080/"
        },
        "id": "CsjBrpJQzCS3",
        "outputId": "738e3766-7e2e-4dd8-acfb-71046e48b3e3"
      },
      "execution_count": null,
      "outputs": [
        {
          "output_type": "execute_result",
          "data": {
            "text/plain": [
              "False"
            ]
          },
          "metadata": {},
          "execution_count": 18
        }
      ]
    },
    {
      "cell_type": "markdown",
      "source": [
        "**7. Print age statistics for each race (the *race* feature) and each gender. Use *groupby* and *describe*. Find in this way the maximum age of men of the race *Amer-Indian-Eskimo*.**\n"
      ],
      "metadata": {
        "id": "r14i8zsmVhYF"
      }
    },
    {
      "cell_type": "code",
      "source": [
        "data.groupby([\"race\", \"age\"]).describe()"
      ],
      "metadata": {
        "colab": {
          "base_uri": "https://localhost:8080/",
          "height": 523
        },
        "id": "shtw7rpm4Hys",
        "outputId": "6454c7be-3e54-41b8-ce5d-5e4736a6d195"
      },
      "execution_count": null,
      "outputs": [
        {
          "output_type": "execute_result",
          "data": {
            "text/plain": [
              "                       fnlwgt                                          \\\n",
              "                        count           mean            std       min   \n",
              "race               age                                                  \n",
              "Amer-Indian-Eskimo 17     3.0   85667.333333   52726.233000   27415.0   \n",
              "                   18     4.0  147675.500000  124316.647074   40829.0   \n",
              "                   19     6.0   82268.333333   87982.956676   29083.0   \n",
              "                   20     3.0   66616.666667   61632.489730   27337.0   \n",
              "                   21     6.0  181713.000000   91018.186890   75763.0   \n",
              "...                       ...            ...            ...       ...   \n",
              "White              85     3.0  126667.333333   35100.616410   98611.0   \n",
              "                   86     1.0  149912.000000            NaN  149912.0   \n",
              "                   87     1.0   90338.000000            NaN   90338.0   \n",
              "                   88     3.0  153975.666667   74610.122754   68539.0   \n",
              "                   90    34.0  175389.970588   92386.046987   39824.0   \n",
              "\n",
              "                                                                education-num  \\\n",
              "                              25%       50%       75%       max         count   \n",
              "race               age                                                          \n",
              "Amer-Indian-Eskimo 17    63438.50   99462.0  114793.5  130125.0           3.0   \n",
              "                   18    50039.00  124003.0  221639.5  301867.0           4.0   \n",
              "                   19    30048.50   32143.5  103247.5  243941.0           6.0   \n",
              "                   20    31099.50   34862.0   86256.5  137651.0           3.0   \n",
              "                   21   103932.75  190530.5  238196.5  304302.0           6.0   \n",
              "...                           ...       ...       ...       ...           ...   \n",
              "White              85   106987.50  115364.0  140695.5  166027.0           3.0   \n",
              "                   86   149912.00  149912.0  149912.0  149912.0           1.0   \n",
              "                   87    90338.00   90338.0   90338.0   90338.0           1.0   \n",
              "                   88   127818.00  187097.0  196694.0  206291.0           3.0   \n",
              "                   90    87776.75  173700.0  245073.0  313986.0          34.0   \n",
              "\n",
              "                                   ... capital-loss         hours-per-week  \\\n",
              "                             mean  ...          75%     max          count   \n",
              "race               age             ...                                       \n",
              "Amer-Indian-Eskimo 17    6.666667  ...          0.0     0.0            3.0   \n",
              "                   18    8.000000  ...          0.0     0.0            4.0   \n",
              "                   19    8.333333  ...          0.0  1721.0            6.0   \n",
              "                   20    9.666667  ...          0.0     0.0            3.0   \n",
              "                   21    9.166667  ...          0.0     0.0            6.0   \n",
              "...                           ...  ...          ...     ...            ...   \n",
              "White              85   10.333333  ...          0.0     0.0            3.0   \n",
              "                   86   14.000000  ...          0.0     0.0            1.0   \n",
              "                   87    9.000000  ...          0.0     0.0            1.0   \n",
              "                   88   13.333333  ...          0.0     0.0            3.0   \n",
              "                   90    9.852941  ...          0.0  4356.0           34.0   \n",
              "\n",
              "                                                                              \n",
              "                             mean        std   min    25%   50%    75%   max  \n",
              "race               age                                                        \n",
              "Amer-Indian-Eskimo 17   20.000000   0.000000  20.0  20.00  20.0  20.00  20.0  \n",
              "                   18   26.250000   9.464847  20.0  20.00  22.5  28.75  40.0  \n",
              "                   19   27.500000  10.368221  15.0  21.25  25.0  36.25  40.0  \n",
              "                   20   53.333333  16.653328  40.0  44.00  48.0  60.00  72.0  \n",
              "                   21   34.666667  15.266521   4.0  38.50  40.0  40.00  46.0  \n",
              "...                           ...        ...   ...    ...   ...    ...   ...  \n",
              "White              85   29.333333  24.006943   3.0  19.00  35.0  42.50  50.0  \n",
              "                   86   40.000000        NaN  40.0  40.00  40.0  40.00  40.0  \n",
              "                   87    2.000000        NaN   2.0   2.00   2.0   2.00   2.0  \n",
              "                   88   40.000000   0.000000  40.0  40.00  40.0  40.00  40.0  \n",
              "                   90   37.529412  18.470673   4.0  26.25  40.0  40.00  99.0  \n",
              "\n",
              "[297 rows x 40 columns]"
            ],
            "text/html": [
              "\n",
              "  <div id=\"df-e2b642bc-36d6-4de9-92c7-482df09cb7f2\" class=\"colab-df-container\">\n",
              "    <div>\n",
              "<style scoped>\n",
              "    .dataframe tbody tr th:only-of-type {\n",
              "        vertical-align: middle;\n",
              "    }\n",
              "\n",
              "    .dataframe tbody tr th {\n",
              "        vertical-align: top;\n",
              "    }\n",
              "\n",
              "    .dataframe thead tr th {\n",
              "        text-align: left;\n",
              "    }\n",
              "\n",
              "    .dataframe thead tr:last-of-type th {\n",
              "        text-align: right;\n",
              "    }\n",
              "</style>\n",
              "<table border=\"1\" class=\"dataframe\">\n",
              "  <thead>\n",
              "    <tr>\n",
              "      <th></th>\n",
              "      <th></th>\n",
              "      <th colspan=\"8\" halign=\"left\">fnlwgt</th>\n",
              "      <th colspan=\"2\" halign=\"left\">education-num</th>\n",
              "      <th>...</th>\n",
              "      <th colspan=\"2\" halign=\"left\">capital-loss</th>\n",
              "      <th colspan=\"8\" halign=\"left\">hours-per-week</th>\n",
              "    </tr>\n",
              "    <tr>\n",
              "      <th></th>\n",
              "      <th></th>\n",
              "      <th>count</th>\n",
              "      <th>mean</th>\n",
              "      <th>std</th>\n",
              "      <th>min</th>\n",
              "      <th>25%</th>\n",
              "      <th>50%</th>\n",
              "      <th>75%</th>\n",
              "      <th>max</th>\n",
              "      <th>count</th>\n",
              "      <th>mean</th>\n",
              "      <th>...</th>\n",
              "      <th>75%</th>\n",
              "      <th>max</th>\n",
              "      <th>count</th>\n",
              "      <th>mean</th>\n",
              "      <th>std</th>\n",
              "      <th>min</th>\n",
              "      <th>25%</th>\n",
              "      <th>50%</th>\n",
              "      <th>75%</th>\n",
              "      <th>max</th>\n",
              "    </tr>\n",
              "    <tr>\n",
              "      <th>race</th>\n",
              "      <th>age</th>\n",
              "      <th></th>\n",
              "      <th></th>\n",
              "      <th></th>\n",
              "      <th></th>\n",
              "      <th></th>\n",
              "      <th></th>\n",
              "      <th></th>\n",
              "      <th></th>\n",
              "      <th></th>\n",
              "      <th></th>\n",
              "      <th></th>\n",
              "      <th></th>\n",
              "      <th></th>\n",
              "      <th></th>\n",
              "      <th></th>\n",
              "      <th></th>\n",
              "      <th></th>\n",
              "      <th></th>\n",
              "      <th></th>\n",
              "      <th></th>\n",
              "      <th></th>\n",
              "    </tr>\n",
              "  </thead>\n",
              "  <tbody>\n",
              "    <tr>\n",
              "      <th rowspan=\"5\" valign=\"top\">Amer-Indian-Eskimo</th>\n",
              "      <th>17</th>\n",
              "      <td>3.0</td>\n",
              "      <td>85667.333333</td>\n",
              "      <td>52726.233000</td>\n",
              "      <td>27415.0</td>\n",
              "      <td>63438.50</td>\n",
              "      <td>99462.0</td>\n",
              "      <td>114793.5</td>\n",
              "      <td>130125.0</td>\n",
              "      <td>3.0</td>\n",
              "      <td>6.666667</td>\n",
              "      <td>...</td>\n",
              "      <td>0.0</td>\n",
              "      <td>0.0</td>\n",
              "      <td>3.0</td>\n",
              "      <td>20.000000</td>\n",
              "      <td>0.000000</td>\n",
              "      <td>20.0</td>\n",
              "      <td>20.00</td>\n",
              "      <td>20.0</td>\n",
              "      <td>20.00</td>\n",
              "      <td>20.0</td>\n",
              "    </tr>\n",
              "    <tr>\n",
              "      <th>18</th>\n",
              "      <td>4.0</td>\n",
              "      <td>147675.500000</td>\n",
              "      <td>124316.647074</td>\n",
              "      <td>40829.0</td>\n",
              "      <td>50039.00</td>\n",
              "      <td>124003.0</td>\n",
              "      <td>221639.5</td>\n",
              "      <td>301867.0</td>\n",
              "      <td>4.0</td>\n",
              "      <td>8.000000</td>\n",
              "      <td>...</td>\n",
              "      <td>0.0</td>\n",
              "      <td>0.0</td>\n",
              "      <td>4.0</td>\n",
              "      <td>26.250000</td>\n",
              "      <td>9.464847</td>\n",
              "      <td>20.0</td>\n",
              "      <td>20.00</td>\n",
              "      <td>22.5</td>\n",
              "      <td>28.75</td>\n",
              "      <td>40.0</td>\n",
              "    </tr>\n",
              "    <tr>\n",
              "      <th>19</th>\n",
              "      <td>6.0</td>\n",
              "      <td>82268.333333</td>\n",
              "      <td>87982.956676</td>\n",
              "      <td>29083.0</td>\n",
              "      <td>30048.50</td>\n",
              "      <td>32143.5</td>\n",
              "      <td>103247.5</td>\n",
              "      <td>243941.0</td>\n",
              "      <td>6.0</td>\n",
              "      <td>8.333333</td>\n",
              "      <td>...</td>\n",
              "      <td>0.0</td>\n",
              "      <td>1721.0</td>\n",
              "      <td>6.0</td>\n",
              "      <td>27.500000</td>\n",
              "      <td>10.368221</td>\n",
              "      <td>15.0</td>\n",
              "      <td>21.25</td>\n",
              "      <td>25.0</td>\n",
              "      <td>36.25</td>\n",
              "      <td>40.0</td>\n",
              "    </tr>\n",
              "    <tr>\n",
              "      <th>20</th>\n",
              "      <td>3.0</td>\n",
              "      <td>66616.666667</td>\n",
              "      <td>61632.489730</td>\n",
              "      <td>27337.0</td>\n",
              "      <td>31099.50</td>\n",
              "      <td>34862.0</td>\n",
              "      <td>86256.5</td>\n",
              "      <td>137651.0</td>\n",
              "      <td>3.0</td>\n",
              "      <td>9.666667</td>\n",
              "      <td>...</td>\n",
              "      <td>0.0</td>\n",
              "      <td>0.0</td>\n",
              "      <td>3.0</td>\n",
              "      <td>53.333333</td>\n",
              "      <td>16.653328</td>\n",
              "      <td>40.0</td>\n",
              "      <td>44.00</td>\n",
              "      <td>48.0</td>\n",
              "      <td>60.00</td>\n",
              "      <td>72.0</td>\n",
              "    </tr>\n",
              "    <tr>\n",
              "      <th>21</th>\n",
              "      <td>6.0</td>\n",
              "      <td>181713.000000</td>\n",
              "      <td>91018.186890</td>\n",
              "      <td>75763.0</td>\n",
              "      <td>103932.75</td>\n",
              "      <td>190530.5</td>\n",
              "      <td>238196.5</td>\n",
              "      <td>304302.0</td>\n",
              "      <td>6.0</td>\n",
              "      <td>9.166667</td>\n",
              "      <td>...</td>\n",
              "      <td>0.0</td>\n",
              "      <td>0.0</td>\n",
              "      <td>6.0</td>\n",
              "      <td>34.666667</td>\n",
              "      <td>15.266521</td>\n",
              "      <td>4.0</td>\n",
              "      <td>38.50</td>\n",
              "      <td>40.0</td>\n",
              "      <td>40.00</td>\n",
              "      <td>46.0</td>\n",
              "    </tr>\n",
              "    <tr>\n",
              "      <th>...</th>\n",
              "      <th>...</th>\n",
              "      <td>...</td>\n",
              "      <td>...</td>\n",
              "      <td>...</td>\n",
              "      <td>...</td>\n",
              "      <td>...</td>\n",
              "      <td>...</td>\n",
              "      <td>...</td>\n",
              "      <td>...</td>\n",
              "      <td>...</td>\n",
              "      <td>...</td>\n",
              "      <td>...</td>\n",
              "      <td>...</td>\n",
              "      <td>...</td>\n",
              "      <td>...</td>\n",
              "      <td>...</td>\n",
              "      <td>...</td>\n",
              "      <td>...</td>\n",
              "      <td>...</td>\n",
              "      <td>...</td>\n",
              "      <td>...</td>\n",
              "      <td>...</td>\n",
              "    </tr>\n",
              "    <tr>\n",
              "      <th rowspan=\"5\" valign=\"top\">White</th>\n",
              "      <th>85</th>\n",
              "      <td>3.0</td>\n",
              "      <td>126667.333333</td>\n",
              "      <td>35100.616410</td>\n",
              "      <td>98611.0</td>\n",
              "      <td>106987.50</td>\n",
              "      <td>115364.0</td>\n",
              "      <td>140695.5</td>\n",
              "      <td>166027.0</td>\n",
              "      <td>3.0</td>\n",
              "      <td>10.333333</td>\n",
              "      <td>...</td>\n",
              "      <td>0.0</td>\n",
              "      <td>0.0</td>\n",
              "      <td>3.0</td>\n",
              "      <td>29.333333</td>\n",
              "      <td>24.006943</td>\n",
              "      <td>3.0</td>\n",
              "      <td>19.00</td>\n",
              "      <td>35.0</td>\n",
              "      <td>42.50</td>\n",
              "      <td>50.0</td>\n",
              "    </tr>\n",
              "    <tr>\n",
              "      <th>86</th>\n",
              "      <td>1.0</td>\n",
              "      <td>149912.000000</td>\n",
              "      <td>NaN</td>\n",
              "      <td>149912.0</td>\n",
              "      <td>149912.00</td>\n",
              "      <td>149912.0</td>\n",
              "      <td>149912.0</td>\n",
              "      <td>149912.0</td>\n",
              "      <td>1.0</td>\n",
              "      <td>14.000000</td>\n",
              "      <td>...</td>\n",
              "      <td>0.0</td>\n",
              "      <td>0.0</td>\n",
              "      <td>1.0</td>\n",
              "      <td>40.000000</td>\n",
              "      <td>NaN</td>\n",
              "      <td>40.0</td>\n",
              "      <td>40.00</td>\n",
              "      <td>40.0</td>\n",
              "      <td>40.00</td>\n",
              "      <td>40.0</td>\n",
              "    </tr>\n",
              "    <tr>\n",
              "      <th>87</th>\n",
              "      <td>1.0</td>\n",
              "      <td>90338.000000</td>\n",
              "      <td>NaN</td>\n",
              "      <td>90338.0</td>\n",
              "      <td>90338.00</td>\n",
              "      <td>90338.0</td>\n",
              "      <td>90338.0</td>\n",
              "      <td>90338.0</td>\n",
              "      <td>1.0</td>\n",
              "      <td>9.000000</td>\n",
              "      <td>...</td>\n",
              "      <td>0.0</td>\n",
              "      <td>0.0</td>\n",
              "      <td>1.0</td>\n",
              "      <td>2.000000</td>\n",
              "      <td>NaN</td>\n",
              "      <td>2.0</td>\n",
              "      <td>2.00</td>\n",
              "      <td>2.0</td>\n",
              "      <td>2.00</td>\n",
              "      <td>2.0</td>\n",
              "    </tr>\n",
              "    <tr>\n",
              "      <th>88</th>\n",
              "      <td>3.0</td>\n",
              "      <td>153975.666667</td>\n",
              "      <td>74610.122754</td>\n",
              "      <td>68539.0</td>\n",
              "      <td>127818.00</td>\n",
              "      <td>187097.0</td>\n",
              "      <td>196694.0</td>\n",
              "      <td>206291.0</td>\n",
              "      <td>3.0</td>\n",
              "      <td>13.333333</td>\n",
              "      <td>...</td>\n",
              "      <td>0.0</td>\n",
              "      <td>0.0</td>\n",
              "      <td>3.0</td>\n",
              "      <td>40.000000</td>\n",
              "      <td>0.000000</td>\n",
              "      <td>40.0</td>\n",
              "      <td>40.00</td>\n",
              "      <td>40.0</td>\n",
              "      <td>40.00</td>\n",
              "      <td>40.0</td>\n",
              "    </tr>\n",
              "    <tr>\n",
              "      <th>90</th>\n",
              "      <td>34.0</td>\n",
              "      <td>175389.970588</td>\n",
              "      <td>92386.046987</td>\n",
              "      <td>39824.0</td>\n",
              "      <td>87776.75</td>\n",
              "      <td>173700.0</td>\n",
              "      <td>245073.0</td>\n",
              "      <td>313986.0</td>\n",
              "      <td>34.0</td>\n",
              "      <td>9.852941</td>\n",
              "      <td>...</td>\n",
              "      <td>0.0</td>\n",
              "      <td>4356.0</td>\n",
              "      <td>34.0</td>\n",
              "      <td>37.529412</td>\n",
              "      <td>18.470673</td>\n",
              "      <td>4.0</td>\n",
              "      <td>26.25</td>\n",
              "      <td>40.0</td>\n",
              "      <td>40.00</td>\n",
              "      <td>99.0</td>\n",
              "    </tr>\n",
              "  </tbody>\n",
              "</table>\n",
              "<p>297 rows × 40 columns</p>\n",
              "</div>\n",
              "    <div class=\"colab-df-buttons\">\n",
              "\n",
              "  <div class=\"colab-df-container\">\n",
              "    <button class=\"colab-df-convert\" onclick=\"convertToInteractive('df-e2b642bc-36d6-4de9-92c7-482df09cb7f2')\"\n",
              "            title=\"Convert this dataframe to an interactive table.\"\n",
              "            style=\"display:none;\">\n",
              "\n",
              "  <svg xmlns=\"http://www.w3.org/2000/svg\" height=\"24px\" viewBox=\"0 -960 960 960\">\n",
              "    <path d=\"M120-120v-720h720v720H120Zm60-500h600v-160H180v160Zm220 220h160v-160H400v160Zm0 220h160v-160H400v160ZM180-400h160v-160H180v160Zm440 0h160v-160H620v160ZM180-180h160v-160H180v160Zm440 0h160v-160H620v160Z\"/>\n",
              "  </svg>\n",
              "    </button>\n",
              "\n",
              "  <style>\n",
              "    .colab-df-container {\n",
              "      display:flex;\n",
              "      gap: 12px;\n",
              "    }\n",
              "\n",
              "    .colab-df-convert {\n",
              "      background-color: #E8F0FE;\n",
              "      border: none;\n",
              "      border-radius: 50%;\n",
              "      cursor: pointer;\n",
              "      display: none;\n",
              "      fill: #1967D2;\n",
              "      height: 32px;\n",
              "      padding: 0 0 0 0;\n",
              "      width: 32px;\n",
              "    }\n",
              "\n",
              "    .colab-df-convert:hover {\n",
              "      background-color: #E2EBFA;\n",
              "      box-shadow: 0px 1px 2px rgba(60, 64, 67, 0.3), 0px 1px 3px 1px rgba(60, 64, 67, 0.15);\n",
              "      fill: #174EA6;\n",
              "    }\n",
              "\n",
              "    .colab-df-buttons div {\n",
              "      margin-bottom: 4px;\n",
              "    }\n",
              "\n",
              "    [theme=dark] .colab-df-convert {\n",
              "      background-color: #3B4455;\n",
              "      fill: #D2E3FC;\n",
              "    }\n",
              "\n",
              "    [theme=dark] .colab-df-convert:hover {\n",
              "      background-color: #434B5C;\n",
              "      box-shadow: 0px 1px 3px 1px rgba(0, 0, 0, 0.15);\n",
              "      filter: drop-shadow(0px 1px 2px rgba(0, 0, 0, 0.3));\n",
              "      fill: #FFFFFF;\n",
              "    }\n",
              "  </style>\n",
              "\n",
              "    <script>\n",
              "      const buttonEl =\n",
              "        document.querySelector('#df-e2b642bc-36d6-4de9-92c7-482df09cb7f2 button.colab-df-convert');\n",
              "      buttonEl.style.display =\n",
              "        google.colab.kernel.accessAllowed ? 'block' : 'none';\n",
              "\n",
              "      async function convertToInteractive(key) {\n",
              "        const element = document.querySelector('#df-e2b642bc-36d6-4de9-92c7-482df09cb7f2');\n",
              "        const dataTable =\n",
              "          await google.colab.kernel.invokeFunction('convertToInteractive',\n",
              "                                                    [key], {});\n",
              "        if (!dataTable) return;\n",
              "\n",
              "        const docLinkHtml = 'Like what you see? Visit the ' +\n",
              "          '<a target=\"_blank\" href=https://colab.research.google.com/notebooks/data_table.ipynb>data table notebook</a>'\n",
              "          + ' to learn more about interactive tables.';\n",
              "        element.innerHTML = '';\n",
              "        dataTable['output_type'] = 'display_data';\n",
              "        await google.colab.output.renderOutput(dataTable, element);\n",
              "        const docLink = document.createElement('div');\n",
              "        docLink.innerHTML = docLinkHtml;\n",
              "        element.appendChild(docLink);\n",
              "      }\n",
              "    </script>\n",
              "  </div>\n",
              "\n",
              "\n",
              "<div id=\"df-4b3e2e90-47f7-4dd4-a455-475db0b48cee\">\n",
              "  <button class=\"colab-df-quickchart\" onclick=\"quickchart('df-4b3e2e90-47f7-4dd4-a455-475db0b48cee')\"\n",
              "            title=\"Suggest charts\"\n",
              "            style=\"display:none;\">\n",
              "\n",
              "<svg xmlns=\"http://www.w3.org/2000/svg\" height=\"24px\"viewBox=\"0 0 24 24\"\n",
              "     width=\"24px\">\n",
              "    <g>\n",
              "        <path d=\"M19 3H5c-1.1 0-2 .9-2 2v14c0 1.1.9 2 2 2h14c1.1 0 2-.9 2-2V5c0-1.1-.9-2-2-2zM9 17H7v-7h2v7zm4 0h-2V7h2v10zm4 0h-2v-4h2v4z\"/>\n",
              "    </g>\n",
              "</svg>\n",
              "  </button>\n",
              "\n",
              "<style>\n",
              "  .colab-df-quickchart {\n",
              "      --bg-color: #E8F0FE;\n",
              "      --fill-color: #1967D2;\n",
              "      --hover-bg-color: #E2EBFA;\n",
              "      --hover-fill-color: #174EA6;\n",
              "      --disabled-fill-color: #AAA;\n",
              "      --disabled-bg-color: #DDD;\n",
              "  }\n",
              "\n",
              "  [theme=dark] .colab-df-quickchart {\n",
              "      --bg-color: #3B4455;\n",
              "      --fill-color: #D2E3FC;\n",
              "      --hover-bg-color: #434B5C;\n",
              "      --hover-fill-color: #FFFFFF;\n",
              "      --disabled-bg-color: #3B4455;\n",
              "      --disabled-fill-color: #666;\n",
              "  }\n",
              "\n",
              "  .colab-df-quickchart {\n",
              "    background-color: var(--bg-color);\n",
              "    border: none;\n",
              "    border-radius: 50%;\n",
              "    cursor: pointer;\n",
              "    display: none;\n",
              "    fill: var(--fill-color);\n",
              "    height: 32px;\n",
              "    padding: 0;\n",
              "    width: 32px;\n",
              "  }\n",
              "\n",
              "  .colab-df-quickchart:hover {\n",
              "    background-color: var(--hover-bg-color);\n",
              "    box-shadow: 0 1px 2px rgba(60, 64, 67, 0.3), 0 1px 3px 1px rgba(60, 64, 67, 0.15);\n",
              "    fill: var(--button-hover-fill-color);\n",
              "  }\n",
              "\n",
              "  .colab-df-quickchart-complete:disabled,\n",
              "  .colab-df-quickchart-complete:disabled:hover {\n",
              "    background-color: var(--disabled-bg-color);\n",
              "    fill: var(--disabled-fill-color);\n",
              "    box-shadow: none;\n",
              "  }\n",
              "\n",
              "  .colab-df-spinner {\n",
              "    border: 2px solid var(--fill-color);\n",
              "    border-color: transparent;\n",
              "    border-bottom-color: var(--fill-color);\n",
              "    animation:\n",
              "      spin 1s steps(1) infinite;\n",
              "  }\n",
              "\n",
              "  @keyframes spin {\n",
              "    0% {\n",
              "      border-color: transparent;\n",
              "      border-bottom-color: var(--fill-color);\n",
              "      border-left-color: var(--fill-color);\n",
              "    }\n",
              "    20% {\n",
              "      border-color: transparent;\n",
              "      border-left-color: var(--fill-color);\n",
              "      border-top-color: var(--fill-color);\n",
              "    }\n",
              "    30% {\n",
              "      border-color: transparent;\n",
              "      border-left-color: var(--fill-color);\n",
              "      border-top-color: var(--fill-color);\n",
              "      border-right-color: var(--fill-color);\n",
              "    }\n",
              "    40% {\n",
              "      border-color: transparent;\n",
              "      border-right-color: var(--fill-color);\n",
              "      border-top-color: var(--fill-color);\n",
              "    }\n",
              "    60% {\n",
              "      border-color: transparent;\n",
              "      border-right-color: var(--fill-color);\n",
              "    }\n",
              "    80% {\n",
              "      border-color: transparent;\n",
              "      border-right-color: var(--fill-color);\n",
              "      border-bottom-color: var(--fill-color);\n",
              "    }\n",
              "    90% {\n",
              "      border-color: transparent;\n",
              "      border-bottom-color: var(--fill-color);\n",
              "    }\n",
              "  }\n",
              "</style>\n",
              "\n",
              "  <script>\n",
              "    async function quickchart(key) {\n",
              "      const quickchartButtonEl =\n",
              "        document.querySelector('#' + key + ' button');\n",
              "      quickchartButtonEl.disabled = true;  // To prevent multiple clicks.\n",
              "      quickchartButtonEl.classList.add('colab-df-spinner');\n",
              "      try {\n",
              "        const charts = await google.colab.kernel.invokeFunction(\n",
              "            'suggestCharts', [key], {});\n",
              "      } catch (error) {\n",
              "        console.error('Error during call to suggestCharts:', error);\n",
              "      }\n",
              "      quickchartButtonEl.classList.remove('colab-df-spinner');\n",
              "      quickchartButtonEl.classList.add('colab-df-quickchart-complete');\n",
              "    }\n",
              "    (() => {\n",
              "      let quickchartButtonEl =\n",
              "        document.querySelector('#df-4b3e2e90-47f7-4dd4-a455-475db0b48cee button');\n",
              "      quickchartButtonEl.style.display =\n",
              "        google.colab.kernel.accessAllowed ? 'block' : 'none';\n",
              "    })();\n",
              "  </script>\n",
              "</div>\n",
              "    </div>\n",
              "  </div>\n"
            ]
          },
          "metadata": {},
          "execution_count": 19
        }
      ]
    },
    {
      "cell_type": "code",
      "source": [
        "int(data.loc[data[\"race\"]==\"Amer-Indian-Eskimo\"].groupby([\"age\"]).sum(numeric_only=True).reset_index().sort_values(by='age', ascending=True).tail(1)[\"age\"])"
      ],
      "metadata": {
        "colab": {
          "base_uri": "https://localhost:8080/"
        },
        "id": "RDWPDrym3MWi",
        "outputId": "95434669-2a5c-4681-ead8-81bccb479833"
      },
      "execution_count": null,
      "outputs": [
        {
          "output_type": "execute_result",
          "data": {
            "text/plain": [
              "82"
            ]
          },
          "metadata": {},
          "execution_count": 20
        }
      ]
    },
    {
      "cell_type": "markdown",
      "source": [
        "**8. Among whom is the greater share of those earning a lot (>50K): among married or single men (attribute *marital-status*)? We consider those whose *marital-status* begins with *Married* (Married-civ-spouse, Married-spouse-absent or Married-AF-spouse) to be married; the rest are considered single.**\n"
      ],
      "metadata": {
        "id": "hMS8Qel2VjKe"
      }
    },
    {
      "cell_type": "code",
      "source": [
        "data[\"marital-status\"].unique()"
      ],
      "metadata": {
        "colab": {
          "base_uri": "https://localhost:8080/"
        },
        "id": "-lQCHR4iY6K0",
        "outputId": "9a49ff31-a0f0-46de-a222-c85caf0a69da"
      },
      "execution_count": null,
      "outputs": [
        {
          "output_type": "execute_result",
          "data": {
            "text/plain": [
              "array(['Never-married', 'Married-civ-spouse', 'Divorced',\n",
              "       'Married-spouse-absent', 'Separated', 'Married-AF-spouse',\n",
              "       'Widowed'], dtype=object)"
            ]
          },
          "metadata": {},
          "execution_count": 21
        }
      ]
    },
    {
      "cell_type": "code",
      "source": [
        "married = data[\"sex\"].loc[(data[\"marital-status\"].str.contains(\"Married\",case=False)) & (data[\"salary\"]==\">50K\")].value_counts()[\"Male\"]\n",
        "married"
      ],
      "metadata": {
        "colab": {
          "base_uri": "https://localhost:8080/"
        },
        "id": "l8ncGh1OYLRX",
        "outputId": "3511886c-1270-49b5-818e-8ac9d467754a"
      },
      "execution_count": null,
      "outputs": [
        {
          "output_type": "execute_result",
          "data": {
            "text/plain": [
              "6290"
            ]
          },
          "metadata": {},
          "execution_count": 22
        }
      ]
    },
    {
      "cell_type": "code",
      "source": [
        "notMarried = data[\"sex\"].loc[(~data[\"marital-status\"].str.contains(\"Married\",case=False)) & (data[\"salary\"]==\">50K\")].value_counts()[\"Male\"]\n",
        "notMarried"
      ],
      "metadata": {
        "colab": {
          "base_uri": "https://localhost:8080/"
        },
        "id": "PQ45OVjUdjgO",
        "outputId": "987634ea-bc22-4ecd-b4a9-ddca2c835316"
      },
      "execution_count": null,
      "outputs": [
        {
          "output_type": "execute_result",
          "data": {
            "text/plain": [
              "372"
            ]
          },
          "metadata": {},
          "execution_count": 23
        }
      ]
    },
    {
      "cell_type": "code",
      "source": [
        "all = len(data[(data[\"salary\"]==\">50K\")  & (data[\"sex\"]==\"Male\")].axes[0])\n",
        "all"
      ],
      "metadata": {
        "colab": {
          "base_uri": "https://localhost:8080/"
        },
        "id": "OQncONMads9i",
        "outputId": "2bafb2e0-f719-49f7-d53f-831efcd678dc"
      },
      "execution_count": null,
      "outputs": [
        {
          "output_type": "execute_result",
          "data": {
            "text/plain": [
              "6662"
            ]
          },
          "metadata": {},
          "execution_count": 24
        }
      ]
    },
    {
      "cell_type": "code",
      "source": [
        "from re import A\n",
        "if(married/all>notMarried/all):\n",
        "  print(\"There are more married\")\n",
        "elif married/all>notMarried/all:\n",
        "  print(\"There are more not married\")\n",
        "else: print(\"The are equal\")\n",
        "\n"
      ],
      "metadata": {
        "colab": {
          "base_uri": "https://localhost:8080/"
        },
        "id": "VoaozTFneJFw",
        "outputId": "1c21ffdb-3a58-45dd-f3c0-9db6c7df5e25"
      },
      "execution_count": null,
      "outputs": [
        {
          "output_type": "stream",
          "name": "stdout",
          "text": [
            "There are more married\n"
          ]
        }
      ]
    },
    {
      "cell_type": "markdown",
      "source": [
        "9. What is the maximum number of hours a person works per week (attribute\n",
        "hours-per-week)? How many people work that number of hours and what percentage of them earn a lot?"
      ],
      "metadata": {
        "id": "Q8pXObMaVlic"
      }
    },
    {
      "cell_type": "code",
      "source": [
        "print(f'number with max: {len(data.loc[data[\"hours-per-week\"] == data[\"hours-per-week\"].max()])}')"
      ],
      "metadata": {
        "colab": {
          "base_uri": "https://localhost:8080/"
        },
        "outputId": "6cc684d7-67aa-40a3-f477-3c500c5be98f",
        "id": "BlXrz_GakyJ1"
      },
      "execution_count": null,
      "outputs": [
        {
          "output_type": "stream",
          "name": "stdout",
          "text": [
            "number with max: 85\n"
          ]
        }
      ]
    },
    {
      "cell_type": "code",
      "source": [
        "len(data.loc[(data[\"hours-per-week\"] == data[\"hours-per-week\"].max()) & (data[\"salary\"] == \">50K\")])\n"
      ],
      "metadata": {
        "colab": {
          "base_uri": "https://localhost:8080/"
        },
        "id": "aYhy46PKk-cI",
        "outputId": "b404222b-8655-4002-badf-ec30caf20b89"
      },
      "execution_count": null,
      "outputs": [
        {
          "output_type": "execute_result",
          "data": {
            "text/plain": [
              "25"
            ]
          },
          "metadata": {},
          "execution_count": 31
        }
      ]
    },
    {
      "cell_type": "code",
      "source": [
        "len(data[data[\"salary\"] == \">50K\"])"
      ],
      "metadata": {
        "colab": {
          "base_uri": "https://localhost:8080/"
        },
        "id": "ZxgTYspAmRRm",
        "outputId": "bd9e56fc-00db-4b1c-cd62-bebc932f31b4"
      },
      "execution_count": null,
      "outputs": [
        {
          "output_type": "execute_result",
          "data": {
            "text/plain": [
              "7841"
            ]
          },
          "metadata": {},
          "execution_count": 32
        }
      ]
    },
    {
      "cell_type": "code",
      "source": [
        "print(f'percentage:{(len(data.loc[(data[\"hours-per-week\"] == data[\"hours-per-week\"].max()) & (data[\"salary\"] == \">50K\")])/len(data.loc[(data[\"hours-per-week\"] == data[\"hours-per-week\"].max())]))*100}%')\n"
      ],
      "metadata": {
        "colab": {
          "base_uri": "https://localhost:8080/"
        },
        "id": "iSbARs6em9E4",
        "outputId": "a0253fee-79c0-4e71-b029-18e08acf3338"
      },
      "execution_count": null,
      "outputs": [
        {
          "output_type": "stream",
          "name": "stdout",
          "text": [
            "percentage:29.411764705882355%\n"
          ]
        }
      ]
    },
    {
      "cell_type": "markdown",
      "source": [
        "10. Calculate the average work time (hours-per-week) for low and high earners (salary) for each country (native-country)."
      ],
      "metadata": {
        "id": "kp7a-IPbVn_E"
      }
    },
    {
      "cell_type": "code",
      "source": [
        "print(f'average work time of employees with small amount of salary: {data[data[\"salary\"] == \"<=50K\"].groupby(\"native-country\").describe()[\"hours-per-week\"][\"mean\"]}')"
      ],
      "metadata": {
        "colab": {
          "base_uri": "https://localhost:8080/"
        },
        "id": "TUznTrKvoyA7",
        "outputId": "8cca3d85-9bc2-423e-c905-f090804a9aa8"
      },
      "execution_count": null,
      "outputs": [
        {
          "output_type": "stream",
          "name": "stdout",
          "text": [
            "average work time of employees with small amount of salary: native-country\n",
            "?                             40.164760\n",
            "Cambodia                      41.416667\n",
            "Canada                        37.914634\n",
            "China                         37.381818\n",
            "Columbia                      38.684211\n",
            "Cuba                          37.985714\n",
            "Dominican-Republic            42.338235\n",
            "Ecuador                       38.041667\n",
            "El-Salvador                   36.030928\n",
            "England                       40.483333\n",
            "France                        41.058824\n",
            "Germany                       39.139785\n",
            "Greece                        41.809524\n",
            "Guatemala                     39.360656\n",
            "Haiti                         36.325000\n",
            "Holand-Netherlands            40.000000\n",
            "Honduras                      34.333333\n",
            "Hong                          39.142857\n",
            "Hungary                       31.300000\n",
            "India                         38.233333\n",
            "Iran                          41.440000\n",
            "Ireland                       40.947368\n",
            "Italy                         39.625000\n",
            "Jamaica                       38.239437\n",
            "Japan                         41.000000\n",
            "Laos                          40.375000\n",
            "Mexico                        40.003279\n",
            "Nicaragua                     36.093750\n",
            "Outlying-US(Guam-USVI-etc)    41.857143\n",
            "Peru                          35.068966\n",
            "Philippines                   38.065693\n",
            "Poland                        38.166667\n",
            "Portugal                      41.939394\n",
            "Puerto-Rico                   38.470588\n",
            "Scotland                      39.444444\n",
            "South                         40.156250\n",
            "Taiwan                        33.774194\n",
            "Thailand                      42.866667\n",
            "Trinadad&Tobago               37.058824\n",
            "United-States                 38.799127\n",
            "Vietnam                       37.193548\n",
            "Yugoslavia                    41.600000\n",
            "Name: mean, dtype: float64\n"
          ]
        }
      ]
    },
    {
      "cell_type": "code",
      "source": [
        "print(f'average work time of employees with big amount of salary: {data[data[\"salary\"] == \">50K\"].groupby(\"native-country\").describe()[\"hours-per-week\"][\"mean\"]}')"
      ],
      "metadata": {
        "colab": {
          "base_uri": "https://localhost:8080/"
        },
        "id": "pFmuuKiLnaDi",
        "outputId": "b4e65d74-af83-4ba2-d869-e9cc2357604b"
      },
      "execution_count": null,
      "outputs": [
        {
          "output_type": "stream",
          "name": "stdout",
          "text": [
            "average work time of employees with big amount of salary: native-country\n",
            "?                     45.547945\n",
            "Cambodia              40.000000\n",
            "Canada                45.641026\n",
            "China                 38.900000\n",
            "Columbia              50.000000\n",
            "Cuba                  42.440000\n",
            "Dominican-Republic    47.000000\n",
            "Ecuador               48.750000\n",
            "El-Salvador           45.000000\n",
            "England               44.533333\n",
            "France                50.750000\n",
            "Germany               44.977273\n",
            "Greece                50.625000\n",
            "Guatemala             36.666667\n",
            "Haiti                 42.750000\n",
            "Honduras              60.000000\n",
            "Hong                  45.000000\n",
            "Hungary               50.000000\n",
            "India                 46.475000\n",
            "Iran                  47.500000\n",
            "Ireland               48.000000\n",
            "Italy                 45.400000\n",
            "Jamaica               41.100000\n",
            "Japan                 47.958333\n",
            "Laos                  40.000000\n",
            "Mexico                46.575758\n",
            "Nicaragua             37.500000\n",
            "Peru                  40.000000\n",
            "Philippines           43.032787\n",
            "Poland                39.000000\n",
            "Portugal              41.500000\n",
            "Puerto-Rico           39.416667\n",
            "Scotland              46.666667\n",
            "South                 51.437500\n",
            "Taiwan                46.800000\n",
            "Thailand              58.333333\n",
            "Trinadad&Tobago       40.000000\n",
            "United-States         45.505369\n",
            "Vietnam               39.200000\n",
            "Yugoslavia            49.500000\n",
            "Name: mean, dtype: float64\n"
          ]
        }
      ]
    }
  ]
}