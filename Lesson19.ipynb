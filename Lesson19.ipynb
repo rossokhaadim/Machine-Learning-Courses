{
  "nbformat": 4,
  "nbformat_minor": 0,
  "metadata": {
    "colab": {
      "provenance": []
    },
    "kernelspec": {
      "name": "python3",
      "display_name": "Python 3"
    },
    "language_info": {
      "name": "python"
    }
  },
  "cells": [
    {
      "cell_type": "markdown",
      "source": [
        "At first, let's use Helsinki-NLP for translation on Ukrainian"
      ],
      "metadata": {
        "id": "9JV6R0zhYndQ"
      }
    },
    {
      "cell_type": "code",
      "source": [
        "from transformers import AutoModelForSeq2SeqLM, AutoTokenizer\n",
        "\n",
        "def translate(text, model_name=\"Helsinki-NLP/opus-mt-en-uk\"):\n",
        "    model = AutoModelForSeq2SeqLM.from_pretrained(model_name)\n",
        "    tokenizer = AutoTokenizer.from_pretrained(model_name)\n",
        "\n",
        "    inputs = tokenizer.encode(text, return_tensors=\"pt\", truncation=True)\n",
        "\n",
        "    translated = model.generate(inputs, num_beams=4, early_stopping=True)\n",
        "\n",
        "    translated_text = tokenizer.decode(translated[0], skip_special_tokens=True)\n",
        "\n",
        "    return translated_text\n"
      ],
      "metadata": {
        "id": "Yw1_m-d36As3"
      },
      "execution_count": 8,
      "outputs": []
    },
    {
      "cell_type": "code",
      "source": [
        "text_to_translate = \"The final courses task is finished!\"\n",
        "translated_text = translate(text_to_translate, model_name=\"Helsinki-NLP/opus-mt-en-uk\")"
      ],
      "metadata": {
        "id": "YXVixa4j6v5D"
      },
      "execution_count": 9,
      "outputs": []
    },
    {
      "cell_type": "code",
      "source": [
        "print(\"Ukrainian Translation:\", translated_text)"
      ],
      "metadata": {
        "colab": {
          "base_uri": "https://localhost:8080/"
        },
        "id": "fPA1E_t-ZXtl",
        "outputId": "0372f1bb-97bf-430f-8690-f93a5cecafff"
      },
      "execution_count": 10,
      "outputs": [
        {
          "output_type": "stream",
          "name": "stdout",
          "text": [
            "Ukrainian Translation: Остаточне завдання курсу завершено!\n"
          ]
        }
      ]
    },
    {
      "cell_type": "markdown",
      "source": [
        "Now it would be interesting to try T5 model to translate on Romanian and French languages"
      ],
      "metadata": {
        "id": "nKAFeIaLU0yc"
      }
    },
    {
      "cell_type": "code",
      "source": [
        "from transformers import T5ForConditionalGeneration, T5Tokenizer\n",
        "\n",
        "model_name = \"t5-base\"\n",
        "model = T5ForConditionalGeneration.from_pretrained(model_name)\n",
        "tokenizer = T5Tokenizer.from_pretrained(model_name)\n",
        "\n",
        "def translate(input_text, language):\n",
        "\n",
        "    input_text_with_lang_token = f\"translate English to {language}: \" + input_text\n",
        "    input_ids = tokenizer.encode(input_text_with_lang_token, return_tensors=\"pt\")\n",
        "\n",
        "    translated = model.generate(input_ids, num_return_sequences=1, early_stopping=True)\n",
        "\n",
        "    translated_text = tokenizer.decode(translated[0], skip_special_tokens=True)\n",
        "    return translated_text"
      ],
      "metadata": {
        "colab": {
          "base_uri": "https://localhost:8080/"
        },
        "id": "XFM6TT8kNH-p",
        "outputId": "c0697846-b51c-4705-a5a8-44b3281198b3"
      },
      "execution_count": null,
      "outputs": [
        {
          "output_type": "stream",
          "name": "stderr",
          "text": [
            "Special tokens have been added in the vocabulary, make sure the associated word embeddings are fine-tuned or trained.\n"
          ]
        }
      ]
    },
    {
      "cell_type": "code",
      "source": [
        "english_text = \"The final task of the courses is finished!\"\n",
        "romanian_translation = translate(english_text, \"Romanian\")\n",
        "french_translation = translate(english_text, \"French\")"
      ],
      "metadata": {
        "id": "tc6jgT65TPyD"
      },
      "execution_count": null,
      "outputs": []
    },
    {
      "cell_type": "code",
      "source": [
        "print(\"Romanian Translation:\", romanian_translation)\n",
        "print(\"French Translation:\", french_translation)"
      ],
      "metadata": {
        "colab": {
          "base_uri": "https://localhost:8080/"
        },
        "id": "46_wgIcFUxK_",
        "outputId": "bcd1ad55-9652-4eab-babe-acf4b1c31584"
      },
      "execution_count": null,
      "outputs": [
        {
          "output_type": "stream",
          "name": "stdout",
          "text": [
            "Romanian Translation: Sarcina finală a cursurilor s-a încheiat!\n",
            "French Translation: La dernière tâche des cours est terminée!\n"
          ]
        }
      ]
    }
  ]
}